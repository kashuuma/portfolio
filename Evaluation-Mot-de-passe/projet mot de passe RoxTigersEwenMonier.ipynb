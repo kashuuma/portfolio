{
 "cells": [
  {
   "cell_type": "code",
   "execution_count": 2,
   "id": "dee5ad57",
   "metadata": {},
   "outputs": [
    {
     "ename": "ModuleNotFoundError",
     "evalue": "No module named 'js'",
     "output_type": "error",
     "traceback": [
      "\u001b[1;31m---------------------------------------------------------------------------\u001b[0m",
      "\u001b[1;31mModuleNotFoundError\u001b[0m                       Traceback (most recent call last)",
      "Input \u001b[1;32mIn [2]\u001b[0m, in \u001b[0;36m<cell line: 2>\u001b[1;34m()\u001b[0m\n\u001b[0;32m      1\u001b[0m \u001b[38;5;28;01mfrom\u001b[39;00m \u001b[38;5;21;01mmath\u001b[39;00m \u001b[38;5;28;01mimport\u001b[39;00m log2\n\u001b[1;32m----> 2\u001b[0m \u001b[38;5;28;01mimport\u001b[39;00m \u001b[38;5;21;01mjs\u001b[39;00m\n",
      "\u001b[1;31mModuleNotFoundError\u001b[0m: No module named 'js'"
     ]
    }
   ],
   "source": [
    "from math import log2\n",
    "import js"
   ]
  },
  {
   "cell_type": "code",
   "execution_count": 3,
   "id": "2876476a",
   "metadata": {},
   "outputs": [],
   "source": [
    "def tester_presence_par_type(mot,type_symboles):\n",
    "    \"\"\"\n",
    "    Tester si un mot contient l'un des symboles de type_symboles\n",
    "    \n",
    "    PARAM\n",
    "    -----\n",
    "    mot(str) : un mot de passe\n",
    "    type_symboles(str) : symboles recherchés\n",
    "    \n",
    "    RETURN\n",
    "    -------\n",
    "    (bool)  : vrai si le mot contient l'un des symboles recherchés, faux sinon \n",
    "    \n",
    "    EXAMPLES\n",
    "    --------\n",
    "    >>> tester_presence_par_type(\"monTest\",\"abcdefghijklmnopqrstuvwxyz\")\n",
    "    True\n",
    "    (à compléter)\n",
    "    \"\"\"\n",
    "    for i in range(len(mot)):\n",
    "        if mot[i] in type_symboles:\n",
    "            return True\n",
    "    return False"
   ]
  },
  {
   "cell_type": "markdown",
   "id": "7b216ff7",
   "metadata": {},
   "source": [
    "Tester votre fonction `tester_presence_par_type` sur deux exemples."
   ]
  },
  {
   "cell_type": "code",
   "execution_count": 4,
   "id": "e634422c",
   "metadata": {},
   "outputs": [
    {
     "data": {
      "text/plain": [
       "True"
      ]
     },
     "execution_count": 4,
     "metadata": {},
     "output_type": "execute_result"
    }
   ],
   "source": [
    "tester_presence_par_type(\"monTest\",\"abcdefghijklmnopqrstuvwxyz\")"
   ]
  },
  {
   "cell_type": "code",
   "execution_count": 5,
   "id": "8c05ac50",
   "metadata": {},
   "outputs": [
    {
     "data": {
      "text/plain": [
       "False"
      ]
     },
     "execution_count": 5,
     "metadata": {},
     "output_type": "execute_result"
    }
   ],
   "source": [
    "tester_presence_par_type(\"monTest\",\"az\")"
   ]
  },
  {
   "cell_type": "code",
   "execution_count": 6,
   "id": "ec3940a1",
   "metadata": {},
   "outputs": [],
   "source": [
    "def estimer_force_mot_de_passe(mot) :\n",
    "    \"\"\"\n",
    "    Estimer la force d'un mot de passe en fonction de son entropie E\n",
    "    https://fr.wikipedia.org/wiki/Robustesse_d%27un_mot_de_passe#Entropie_des_mots_de_passe_al%C3%A9atoires\n",
    "    E = L*log_2(N) avec\n",
    "    « N » est le nombre de symboles possibles et « L » est le nombre de symboles du mot de passe\n",
    "    \n",
    "    # il y a 26 lettres minuscules,  26 lettres majuscules, 10 chiffres et 11 caractères spéciaux\n",
    "    alphabet_minuscule = 'abcdefghijklmnopqrstuvwxyz' \n",
    "    alphabet_majuscule = 'ABCDEFGHIJKLMNOPQRSTUVWXYZ'\n",
    "    nombre = '0123456789'\n",
    "    caracteres_speciaux=' -!#$%&()*?' \n",
    "    \n",
    "    PARAM\n",
    "    -----\n",
    "    mot(str) : un mot de passe\n",
    "    \n",
    "    RETURN\n",
    "    -------\n",
    "    (int)  : entropie E du mot de passe en supposant que les caractères sont aléatoires\n",
    "             \n",
    "    EXAMPLES\n",
    "    --------\n",
    "    >>> estimer_force_mot_de_passe(\"monTest\")\n",
    "    39\n",
    "    >>> estimer_force_mot_de_passe(\"monTest1\")\n",
    "    47\n",
    "    >>> estimer_force_mot_de_passe(\"mon#Test1\")\n",
    "    55\n",
    "    \"\"\"\n",
    "    alphabet_minuscule = 'abcdefghijklmnopqrstuvwxyz'\n",
    "    alphabet_majuscule = 'ABCDEFGHIJKLMNOPQRSTUVWXYZ'\n",
    "    nombre = '0123456789'\n",
    "    caracteres_speciaux=' -!#$%&()*?'\n",
    "    #crée une liste du type [True, False, False, True] qui montre la présence ou non de certains types de caractères\n",
    "    types = [ tester_presence_par_type(mot,type) for type in (alphabet_minuscule, alphabet_majuscule, nombre, caracteres_speciaux)]\n",
    "    N = 0\n",
    "    if types[0]:\n",
    "        N += 26\n",
    "    if types[1]:\n",
    "        N += 26\n",
    "    if types[2]:\n",
    "        N += 10\n",
    "    if types[3]:\n",
    "        N += 11\n",
    "    score = (len(mot))*log2(N)\n",
    "    return round(score-0.5), types"
   ]
  },
  {
   "cell_type": "markdown",
   "id": "6fda8f9d",
   "metadata": {},
   "source": [
    "Tester votre fonction `estimer_force_mot_de_passe` sur deux exemples."
   ]
  },
  {
   "cell_type": "code",
   "execution_count": 7,
   "id": "62cd6828",
   "metadata": {},
   "outputs": [
    {
     "data": {
      "text/plain": [
       "(55, [True, True, True, True])"
      ]
     },
     "execution_count": 7,
     "metadata": {},
     "output_type": "execute_result"
    }
   ],
   "source": [
    "estimer_force_mot_de_passe(\"mon#Test1\")"
   ]
  },
  {
   "cell_type": "code",
   "execution_count": 8,
   "id": "5b190d47",
   "metadata": {},
   "outputs": [
    {
     "ename": "ValueError",
     "evalue": "math domain error",
     "output_type": "error",
     "traceback": [
      "\u001b[1;31m---------------------------------------------------------------------------\u001b[0m",
      "\u001b[1;31mValueError\u001b[0m                                Traceback (most recent call last)",
      "Input \u001b[1;32mIn [8]\u001b[0m, in \u001b[0;36m<cell line: 1>\u001b[1;34m()\u001b[0m\n\u001b[1;32m----> 1\u001b[0m \u001b[43mestimer_force_mot_de_passe\u001b[49m\u001b[43m(\u001b[49m\u001b[38;5;124;43m\"\u001b[39;49m\u001b[38;5;124;43m\"\u001b[39;49m\u001b[43m)\u001b[49m\n",
      "Input \u001b[1;32mIn [6]\u001b[0m, in \u001b[0;36mestimer_force_mot_de_passe\u001b[1;34m(mot)\u001b[0m\n\u001b[0;32m     44\u001b[0m \u001b[38;5;28;01mif\u001b[39;00m types[\u001b[38;5;241m3\u001b[39m]:\n\u001b[0;32m     45\u001b[0m     N \u001b[38;5;241m+\u001b[39m\u001b[38;5;241m=\u001b[39m \u001b[38;5;241m11\u001b[39m\n\u001b[1;32m---> 46\u001b[0m score \u001b[38;5;241m=\u001b[39m (\u001b[38;5;28mlen\u001b[39m(mot))\u001b[38;5;241m*\u001b[39m\u001b[43mlog2\u001b[49m\u001b[43m(\u001b[49m\u001b[43mN\u001b[49m\u001b[43m)\u001b[49m\n\u001b[0;32m     47\u001b[0m \u001b[38;5;28;01mreturn\u001b[39;00m \u001b[38;5;28mround\u001b[39m(score\u001b[38;5;241m-\u001b[39m\u001b[38;5;241m0.5\u001b[39m), types\n",
      "\u001b[1;31mValueError\u001b[0m: math domain error"
     ]
    }
   ],
   "source": [
    "estimer_force_mot_de_passe(\"\")"
   ]
  },
  {
   "cell_type": "markdown",
   "id": "122012fb",
   "metadata": {},
   "source": [
    "Donner deux limites de cette fonction c'est-à-dire des cas où elle ne fonctionne pas bien. Proposer des idées pour y remédier ( sans le mettre en oeuvre).\n",
    "\n",
    "\n"
   ]
  },
  {
   "cell_type": "markdown",
   "id": "7b73a869",
   "metadata": {},
   "source": [
    "Quand on fait estimer_force_mot_de_passe(\"\") et estimer_force_mot_de_passe(\"é\"). On pourrait ajouter des caractères et renvoyer une force de 0 qaund le mdp est vide"
   ]
  },
  {
   "cell_type": "code",
   "execution_count": 9,
   "id": "9510ffa8",
   "metadata": {},
   "outputs": [],
   "source": [
    "def estimer_niveau(nb) :\n",
    "    \"\"\"\n",
    "    Estimer le niveau de sensibilté d'un mot de passe selon les préconisations de l'ANSSI : page 28 de ce document\n",
    "    https://cyber.gouv.fr/publications/recommandations-relatives-lauthentification-multifacteur-et-aux-mots-de-passe    \n",
    "    \n",
    "    PARAM\n",
    "    -----\n",
    "    nb(int) : entropie d'un mot de passe\n",
    "    \n",
    "    RETURN\n",
    "    -------\n",
    "    (str)  : 'faible' , 'moyen' ou 'fort'\n",
    "    \n",
    "    EXAMPLES\n",
    "    --------\n",
    "    à compléter\n",
    "    \"\"\"\n",
    "    if nb <= 85:\n",
    "        return \"faible\"\n",
    "    elif nb <= 100:\n",
    "        return \"moyen\"\n",
    "    else :\n",
    "        return \"fort\""
   ]
  },
  {
   "cell_type": "markdown",
   "id": "78dd9564",
   "metadata": {},
   "source": [
    "Tester votre fonction `estimer_niveau` sur deux exemples."
   ]
  },
  {
   "cell_type": "code",
   "execution_count": 10,
   "id": "a0832d3e",
   "metadata": {},
   "outputs": [
    {
     "data": {
      "text/plain": [
       "'faible'"
      ]
     },
     "execution_count": 10,
     "metadata": {},
     "output_type": "execute_result"
    }
   ],
   "source": [
    "estimer_niveau(65)"
   ]
  },
  {
   "cell_type": "code",
   "execution_count": 11,
   "id": "11339264",
   "metadata": {},
   "outputs": [
    {
     "data": {
      "text/plain": [
       "'fort'"
      ]
     },
     "execution_count": 11,
     "metadata": {},
     "output_type": "execute_result"
    }
   ],
   "source": [
    "estimer_niveau(150)"
   ]
  },
  {
   "cell_type": "code",
   "execution_count": 12,
   "id": "fadc9d34",
   "metadata": {},
   "outputs": [],
   "source": [
    "def lister_conseils(types, mdp) :\n",
    "    \"\"\"\n",
    "    Liste de conseils pour améliorer son mot de passe selon le type de caractères qu'il contient\n",
    "    \n",
    "    PARAM\n",
    "    -----\n",
    "    type_caracteres(list) : liste de booléens selon que le mot de passe contient ou pas dans l'ordre : \n",
    "                                des minuscules, des majuscules, des chiffres ou des caracteres speciaux\n",
    "                            par exemple : [True, False, False, False] signifie que le mot de passe contient\n",
    "                            des minuscules et ne contient ni majuscules, ni chiffres ni caracteres spéciaux.\n",
    "    mot_de_passe(str) : Le mot de passe testé\n",
    "    \n",
    "    RETURN\n",
    "    -------\n",
    "    (list)  : liste de chaines de caractères contenant chacun un conseil\n",
    "    \n",
    "    EXAMPLES\n",
    "    --------\n",
    "    à compléter\n",
    "    \"\"\"\n",
    "    \n",
    "    #crée une liste des 10000 mdps les plus utilisés\n",
    "    with open(\"10000-most-common-passwords.txt\", \"r\") as file:\n",
    "        passwordList = file.read().splitlines()\n",
    "    \n",
    "    liste_conseils = []\n",
    "    \n",
    "    mdp2 = list(mdp)#transforme le str mdp en liste\n",
    "    \n",
    "    #regarde si des caractères sont répétés\n",
    "    caracteres_vus = []\n",
    "    caracteres_repetes = []\n",
    "    for element in mdp2:\n",
    "        if element in caracteres_vus and element not in caracteres_repetes:\n",
    "            caracteres_repetes.append(element)\n",
    "        else:\n",
    "            caracteres_vus.append(element)\n",
    "    if len(caracteres_repetes) >= 1/5*len(mdp):\n",
    "        liste_conseils.append(\"trop de caractères se répetent.\")\n",
    "        \n",
    "    \n",
    "    if mdp in passwordList :\n",
    "        return \"VOTRE MOT DE PASSE FAIT PARTIE DES 10 000 MOTS DE PASSE LES PLUS UTILISÉS !!!!!!!!!\"\n",
    "    \n",
    "    if len(mdp) < 15:\n",
    "        liste_conseils.append(\"Allongez votre mot de passe.\")\n",
    "    if not types[0] : # si le mot de passe ne contient pas de minuscules\n",
    "        liste_conseils.append(\"Ajoutez des minuscules.\")\n",
    "    if not types[1] :\n",
    "        liste_conseils.append(\"Ajoutez des majuscules.\")\n",
    "    if not types[2] :\n",
    "        liste_conseils.append(\"Ajoutez des chiffres.\")\n",
    "    if not types[3] :\n",
    "        liste_conseils.append(\"Ajoutez des caractères spéciaux.\")\n",
    "    if liste_conseils == []:\n",
    "        return \"Tout a l'air bien dans ce mot de passe.\"\n",
    "    else:\n",
    "        return liste_conseils"
   ]
  },
  {
   "cell_type": "markdown",
   "id": "48b1bf84",
   "metadata": {},
   "source": [
    "Tester votre fonction `lister_conseils` sur deux exemples."
   ]
  },
  {
   "cell_type": "code",
   "execution_count": 19,
   "id": "cc216eac",
   "metadata": {},
   "outputs": [
    {
     "data": {
      "text/plain": [
       "['Ajoutez des majuscules.',\n",
       " 'Ajoutez des chiffres.',\n",
       " 'Ajoutez des caractères spéciaux.']"
      ]
     },
     "execution_count": 19,
     "metadata": {},
     "output_type": "execute_result"
    }
   ],
   "source": [
    "lister_conseils(estimer_force_mot_de_passe(\"tttttttttttttttttttttttestttttttttttttttttttttttttttt\")[1], \"tttttttttttttttttttttttestttttttttttttttttttttttttttt\")"
   ]
  },
  {
   "cell_type": "code",
   "execution_count": 14,
   "id": "6eee98f2",
   "metadata": {},
   "outputs": [
    {
     "data": {
      "text/plain": [
       "['trop de caractères se répetent.',\n",
       " 'Allongez votre mot de passe.',\n",
       " 'Ajoutez des minuscules.',\n",
       " 'Ajoutez des majuscules.',\n",
       " 'Ajoutez des chiffres.']"
      ]
     },
     "execution_count": 14,
     "metadata": {},
     "output_type": "execute_result"
    }
   ],
   "source": [
    "lister_conseils(estimer_force_mot_de_passe(\"    \")[1], \"    \")"
   ]
  },
  {
   "cell_type": "markdown",
   "id": "b5e3de38",
   "metadata": {},
   "source": [
    "Ci-dessous, le programme principal qui appelle toutes ces fonctions pour produire le résultat."
   ]
  },
  {
   "cell_type": "code",
   "execution_count": 15,
   "id": "38caba1d",
   "metadata": {},
   "outputs": [
    {
     "name": "stdout",
     "output_type": "stream",
     "text": [
      "Entrer votre de passe pour en connaître la force : DieuEstTR3sGrand!!\n",
      "Tout a l'air bien dans ce mot de passe.\n"
     ]
    }
   ],
   "source": [
    "# mot_de_passe = js.mot_de_passe.value  # affecte la valeur de la variable js \"mot de passe\" à la variable python \"mot de passe\"\n",
    "mot_de_passe = str(input(\"Entrer votre de passe pour en connaître la force : \"))\n",
    "force, presences_types = estimer_force_mot_de_passe(mot_de_passe)\n",
    "niveau = estimer_niveau(force)\n",
    "liste_conseils = lister_conseils(presences_types, mot_de_passe)\n",
    "print(liste_conseils)"
   ]
  },
  {
   "cell_type": "code",
   "execution_count": 16,
   "id": "78208f7c",
   "metadata": {},
   "outputs": [
    {
     "name": "stdout",
     "output_type": "stream",
     "text": [
      "['123456', 'password', '12345678', 'qwerty', '123456789', '12345', '1234', '111111', '1234567', 'dragon', '123123', 'baseball', 'abc123', 'football', 'monkey', 'letmein', '696969', 'shadow', 'master', '666666', 'qwertyuiop', '123321', 'mustang', '1234567890', 'michael']\n"
     ]
    }
   ],
   "source": [
    "#test de l'ouverture du fichier 10000-most-common-passwords.txt\n",
    "with open(\"10000-most-common-passwords.txt\", \"r\") as file:\n",
    "  passwordList = file.read().splitlines()\n",
    "\n",
    "print(passwordList[0:25])"
   ]
  },
  {
   "cell_type": "markdown",
   "id": "1de8c4ff",
   "metadata": {},
   "source": [
    "## Transférer votre code dans la page `mot_de_passe.js`\n",
    "Dans la fonction `pyodide.runPython` après les 2 lignes de code :  \n",
    "```Python\n",
    "from math import log2  \n",
    "import js  \n",
    "``` \n",
    "- copier-coller toutes les fonctions du bloc notes\n",
    "- copier-coller le programme principal en enlevant les \"print\"\n"
   ]
  },
  {
   "cell_type": "code",
   "execution_count": null,
   "id": "aae0b93f",
   "metadata": {},
   "outputs": [],
   "source": []
  }
 ],
 "metadata": {
  "kernelspec": {
   "display_name": "Python 3 (ipykernel)",
   "language": "python",
   "name": "python3"
  },
  "language_info": {
   "codemirror_mode": {
    "name": "ipython",
    "version": 3
   },
   "file_extension": ".py",
   "mimetype": "text/x-python",
   "name": "python",
   "nbconvert_exporter": "python",
   "pygments_lexer": "ipython3",
   "version": "3.10.6"
  }
 },
 "nbformat": 4,
 "nbformat_minor": 5
}
